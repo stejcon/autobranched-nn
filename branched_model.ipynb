{
 "cells": [
  {
   "cell_type": "code",
   "execution_count": null,
   "id": "0d0d2a43-23ab-45a1-a24a-88d320b2a3d4",
   "metadata": {},
   "outputs": [],
   "source": [
    "import torch\n",
    "\n",
    "# MNIST Model with branchs\n",
    "class Branched(torch.nn.Module)\n",
    "    # Set up layers\n",
    "    \n",
    "    def forward(self, x):\n",
    "        # Do layers in order\n",
    "\n",
    "        # Calculate entropy\n",
    "\n",
    "        # "
   ]
  }
 ],
 "metadata": {
  "kernelspec": {
   "display_name": "Python 3 (ipykernel)",
   "language": "python",
   "name": "python3"
  },
  "language_info": {
   "codemirror_mode": {
    "name": "ipython",
    "version": 3
   },
   "file_extension": ".py",
   "mimetype": "text/x-python",
   "name": "python",
   "nbconvert_exporter": "python",
   "pygments_lexer": "ipython3",
   "version": "3.11.5"
  }
 },
 "nbformat": 4,
 "nbformat_minor": 5
}
